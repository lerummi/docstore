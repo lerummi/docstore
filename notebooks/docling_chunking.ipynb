{
 "cells": [
  {
   "cell_type": "code",
   "execution_count": null,
   "id": "640f11cf",
   "metadata": {},
   "outputs": [],
   "source": [
    "from docling.chunking import HybridChunker, HierarchicalChunker\n",
    "from docling.document_converter import DocumentConverter\n",
    "\n",
    "from docling_core.transforms.chunker.tokenizer.huggingface import HuggingFaceTokenizer\n",
    "from transformers import AutoTokenizer\n",
    "\n",
    "from docling.chunking import HybridChunker\n",
    "\n",
    "EMBED_MODEL_ID = \"sentence-transformers/all-MiniLM-L6-v2\"\n",
    "MAX_TOKENS = 512\n",
    "\n",
    "tokenizer = HuggingFaceTokenizer(\n",
    "    tokenizer=AutoTokenizer.from_pretrained(EMBED_MODEL_ID),\n",
    "    max_tokens=MAX_TOKENS,  # optional, by default derived from `tokenizer` for HF case\n",
    ")"
   ]
  },
  {
   "cell_type": "code",
   "execution_count": null,
   "id": "d83e37ee",
   "metadata": {},
   "outputs": [],
   "source": [
    "url = \"https://www.unhcr.org/news/briefing-notes/unhcr-new-displacement-and-funding-squeeze-intensify-mozambique-crisis/\"\n",
    "converter = DocumentConverter()\n",
    "result = converter.convert(url)"
   ]
  },
  {
   "cell_type": "code",
   "execution_count": null,
   "id": "0b617175",
   "metadata": {},
   "outputs": [],
   "source": [
    "hybrid_chunker = HybridChunker(max_tokens=512, tokenizer=tokenizer).chunk(dl_doc=result.document)"
   ]
  },
  {
   "cell_type": "code",
   "execution_count": null,
   "id": "100ed64c",
   "metadata": {},
   "outputs": [],
   "source": [
    "for chunk in hybrid_chunker:\n",
    "    print(len(chunk.text))\n",
    "    print(chunk.text[:1000])"
   ]
  },
  {
   "cell_type": "code",
   "execution_count": null,
   "id": "d68a663f",
   "metadata": {},
   "outputs": [],
   "source": []
  }
 ],
 "metadata": {
  "kernelspec": {
   "display_name": "Python 3 (ipykernel)",
   "language": "python",
   "name": "python3"
  },
  "language_info": {
   "codemirror_mode": {
    "name": "ipython",
    "version": 3
   },
   "file_extension": ".py",
   "mimetype": "text/x-python",
   "name": "python",
   "nbconvert_exporter": "python",
   "pygments_lexer": "ipython3",
   "version": "3.12.10"
  }
 },
 "nbformat": 4,
 "nbformat_minor": 5
}
