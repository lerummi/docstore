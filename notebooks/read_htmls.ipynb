{
 "cells": [
  {
   "cell_type": "code",
   "execution_count": null,
   "id": "ef10d18a",
   "metadata": {},
   "outputs": [],
   "source": [
    "import sqlite3\n",
    "from datetime import date\n",
    "from docstore.extract.input import HtmlReader, OpenAIExtractor\n",
    "\n",
    "html_read = HtmlReader()\n",
    "openai_extract = OpenAIExtractor(model=\"gpt-4.1-nano\", api_key_file=\"/home/.openai/key\")"
   ]
  },
  {
   "cell_type": "code",
   "execution_count": null,
   "id": "b94c252b",
   "metadata": {},
   "outputs": [],
   "source": [
    "# Step 1: Connect to SQLite DB (will create file if it doesn't exist)\n",
    "conn = sqlite3.connect(\"/home/jovyan/data/ecoi.db\")\n",
    "cursor = conn.cursor()\n",
    "\n",
    "# Step 2: Create the `pages` table\n",
    "cursor.execute(\"\"\"\n",
    "    CREATE TABLE IF NOT EXISTS pages (\n",
    "        id INTEGER PRIMARY KEY,\n",
    "        exist BOOLEAN,\n",
    "        source TEXT,\n",
    "        output TEXT,\n",
    "        requested TEXT\n",
    "    )\n",
    "\"\"\")\n",
    "\n",
    "# Index on page_exists (formerly \"exists\")\n",
    "cursor.execute(\"\"\"\n",
    "    CREATE INDEX IF NOT EXISTS idx_pages_page_exists\n",
    "    ON pages (exist)\n",
    "    \"\"\"\n",
    ")\n",
    "\n",
    "# Index on requested\n",
    "cursor.execute(\"\"\"\n",
    "    CREATE INDEX IF NOT EXISTS idx_pages_requested\n",
    "    ON pages (requested)\n",
    "    \"\"\"\n",
    ")"
   ]
  },
  {
   "cell_type": "code",
   "execution_count": null,
   "id": "b747ec95",
   "metadata": {},
   "outputs": [],
   "source": [
    "id = 2125418"
   ]
  },
  {
   "cell_type": "code",
   "execution_count": null,
   "id": "82de0f18",
   "metadata": {},
   "outputs": [],
   "source": [
    "n_outputs = 0\n",
    "while id > 1_000_000:\n",
    "\n",
    "    print(f\"id={id}. n_outputs={n_outputs}\", end='\\r', flush=True)\n",
    "\n",
    "    output = html_read.get_html(id, extract_class=\"col-md-3\")\n",
    "    if output is not None:\n",
    "        n_outputs += 1\n",
    "        parsed = {\n",
    "            \"id\": id,\n",
    "            \"exist\": True,\n",
    "            \"source\": html_read.get_page(id),\n",
    "            \"output\": output,\n",
    "            \"requested\": str(date.today())\n",
    "        }\n",
    "    else:\n",
    "        parsed = {\n",
    "            \"id\": id,\n",
    "            \"exist\": False,\n",
    "            \"source\": None,\n",
    "            \"output\": None,\n",
    "            \"requested\": str(date.today())\n",
    "        }\n",
    "    id -= 1\n",
    "\n",
    "    cursor.execute(\"\"\"\n",
    "        INSERT OR REPLACE INTO pages (id, exist, source, output, requested)\n",
    "        VALUES (?, ?, ?, ?, ?)\n",
    "        \"\"\",\n",
    "        (parsed[\"id\"], parsed[\"exist\"], parsed[\"source\"], str(parsed[\"output\"]), parsed[\"requested\"])\n",
    "    )\n",
    "\n",
    "    conn.commit()\n",
    "\n",
    "conn.close()"
   ]
  },
  {
   "cell_type": "code",
   "execution_count": null,
   "id": "c707061b",
   "metadata": {},
   "outputs": [],
   "source": []
  }
 ],
 "metadata": {
  "kernelspec": {
   "display_name": "Python 3 (ipykernel)",
   "language": "python",
   "name": "python3"
  },
  "language_info": {
   "codemirror_mode": {
    "name": "ipython",
    "version": 3
   },
   "file_extension": ".py",
   "mimetype": "text/x-python",
   "name": "python",
   "nbconvert_exporter": "python",
   "pygments_lexer": "ipython3",
   "version": "3.12.10"
  }
 },
 "nbformat": 4,
 "nbformat_minor": 5
}
