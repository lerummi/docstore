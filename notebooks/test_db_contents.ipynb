{
 "cells": [
  {
   "cell_type": "code",
   "execution_count": null,
   "id": "b0006158",
   "metadata": {},
   "outputs": [],
   "source": [
    "import sqlite3\n",
    "import time\n",
    "import pandas as pd\n",
    "from glob import glob\n",
    "\n",
    "from docling.document_converter import DocumentConverter\n",
    "from tqdm.notebook import tqdm"
   ]
  },
  {
   "cell_type": "code",
   "execution_count": null,
   "id": "10aef069",
   "metadata": {},
   "outputs": [],
   "source": [
    "conn = sqlite3.connect(\"/home/jovyan/data/ecoi.db\")"
   ]
  },
  {
   "cell_type": "code",
   "execution_count": null,
   "id": "fb7641ba",
   "metadata": {},
   "outputs": [],
   "source": [
    "X = pd.read_sql(\"SELECT * FROM page_properties\", con=conn)\n",
    "X"
   ]
  },
  {
   "cell_type": "code",
   "execution_count": null,
   "id": "6b7507f4",
   "metadata": {},
   "outputs": [
    {
     "name": "stdout",
     "output_type": "stream",
     "text": [
      "2006839 https://reliefweb.int/sites/reliefweb.int/files/resources/SitRep-Libya_Tripoli%20%209%20April.pdf True\n"
     ]
    }
   ],
   "source": [
    "converter = DocumentConverter()\n",
    "\n",
    "output_files = list(glob(\"../data/docs/**\"))\n",
    "\n",
    "for _, row in tqdm(X.iterrows(), total=X.shape[0]):\n",
    "\n",
    "    id = row[\"id\"]\n",
    "    original_link = row[\"original_link\"]\n",
    "    output_file = f\"../data/docs/{id}.md\"\n",
    "\n",
    "    if output_file not in output_files:\n",
    "\n",
    "        print(id, original_link, output_file not in output_files)\n",
    "        try:\n",
    "            result = converter.convert(original_link, max_num_pages=15, max_file_size=2 ** 22)\n",
    "            result.document.save_as_markdown(output_file)\n",
    "        except:\n",
    "            continue\n"
   ]
  },
  {
   "cell_type": "markdown",
   "id": "617e2c32",
   "metadata": {},
   "source": []
  },
  {
   "cell_type": "code",
   "execution_count": null,
   "id": "d8609bc0",
   "metadata": {},
   "outputs": [],
   "source": []
  }
 ],
 "metadata": {
  "kernelspec": {
   "display_name": "Python 3 (ipykernel)",
   "language": "python",
   "name": "python3"
  },
  "language_info": {
   "codemirror_mode": {
    "name": "ipython",
    "version": 3
   },
   "file_extension": ".py",
   "mimetype": "text/x-python",
   "name": "python",
   "nbconvert_exporter": "python",
   "pygments_lexer": "ipython3",
   "version": "3.12.10"
  }
 },
 "nbformat": 4,
 "nbformat_minor": 5
}
