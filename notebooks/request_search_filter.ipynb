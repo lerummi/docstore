{
 "cells": [
  {
   "cell_type": "code",
   "execution_count": null,
   "id": "ab568de7",
   "metadata": {},
   "outputs": [],
   "source": [
    "from docstore.extract.input import EcoiSearchIds\n",
    "\n",
    "ecoisearch = EcoiSearchIds()"
   ]
  },
  {
   "cell_type": "code",
   "execution_count": null,
   "id": "5fe23ca4",
   "metadata": {},
   "outputs": [],
   "source": [
    "%%time\n",
    "results = ecoisearch.search(min_date=\"2023-01-01\", max_date=\"2023-12-31\")"
   ]
  },
  {
   "cell_type": "code",
   "execution_count": null,
   "id": "db9df01d",
   "metadata": {},
   "outputs": [],
   "source": []
  }
 ],
 "metadata": {
  "kernelspec": {
   "display_name": "Python 3 (ipykernel)",
   "language": "python",
   "name": "python3"
  },
  "language_info": {
   "codemirror_mode": {
    "name": "ipython",
    "version": 3
   },
   "file_extension": ".py",
   "mimetype": "text/x-python",
   "name": "python",
   "nbconvert_exporter": "python",
   "pygments_lexer": "ipython3",
   "version": "3.12.10"
  }
 },
 "nbformat": 4,
 "nbformat_minor": 5
}
