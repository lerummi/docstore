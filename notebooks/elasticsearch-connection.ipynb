{
 "cells": [
  {
   "cell_type": "code",
   "execution_count": null,
   "id": "0dd33655",
   "metadata": {},
   "outputs": [],
   "source": [
    "import json\n",
    "import glob\n",
    "import requests\n",
    "from tqdm.notebook import tqdm"
   ]
  },
  {
   "cell_type": "code",
   "execution_count": null,
   "id": "5ee7445e-787a-47b0-8d69-047655ca1882",
   "metadata": {},
   "outputs": [],
   "source": [
    "# Elasticsearch endpoint\n",
    "es_url = \"http://elasticsearch:9200\"\n",
    "index_name = \"documents\"\n",
    "\n",
    "# Define the index settings and mappings\n",
    "index_config = {\n",
    "    \"settings\": {\n",
    "        \"index\": {\n",
    "            \"similarity\": {\n",
    "                \"custom_bm25\": {\n",
    "                    \"type\": \"BM25\",\n",
    "                    \"k1\": 1.5,\n",
    "                    \"b\": 0.75,\n",
    "                    \"discount_overlaps\": True\n",
    "                }\n",
    "            }\n",
    "        }\n",
    "    },\n",
    "    \"mappings\": {\n",
    "        \"properties\": {\n",
    "            \"content\": {\n",
    "                \"type\": \"text\",\n",
    "                \"similarity\": \"custom_bm25\"\n",
    "            }\n",
    "        }\n",
    "    }\n",
    "}\n",
    "\n",
    "# Create the index\n",
    "response = requests.put(\n",
    "    f\"{es_url}/{index_name}\",\n",
    "    headers={\"Content-Type\": \"application/json\"},\n",
    "    data=json.dumps(index_config)\n",
    ")\n",
    "\n",
    "# Output the response\n",
    "print(f\"Status Code: {response.status_code}\")\n",
    "print(f\"Response Body: {response.text}\")"
   ]
  },
  {
   "cell_type": "code",
   "execution_count": null,
   "id": "dd4751f0",
   "metadata": {},
   "outputs": [],
   "source": [
    "files = glob.glob(\"/home/jovyan/data/docs/**\")\n",
    "\n",
    "for file in tqdm(files):\n",
    "\n",
    "    id_ = file.split(\"/\")[-1].split(\".\")[0]\n",
    "    with open(file, \"r\") as f:\n",
    "        text = \"\".join(f.readlines())\n",
    "\n",
    "    response = requests.post(\n",
    "            f\"{es_url}/{index_name}/_doc/{id_}\",\n",
    "            headers={\"Content-Type\": \"application/json\"},\n",
    "            data=json.dumps({\"content\": text})\n",
    "        )\n"
   ]
  },
  {
   "cell_type": "code",
   "execution_count": null,
   "id": "68173115",
   "metadata": {},
   "outputs": [],
   "source": [
    "response.text\n"
   ]
  },
  {
   "cell_type": "code",
   "execution_count": null,
   "id": "7d7c4c58-6171-444e-8ead-21c2cf85d9c1",
   "metadata": {},
   "outputs": [],
   "source": [
    "# Sample documents\n",
    "documents = [\n",
    "    {\"content\": \"Elasticsearch provides powerful search capabilities.\"},\n",
    "    {\"content\": \"BM25 is a ranking function used in information retrieval.\"},\n",
    "    {\"content\": \"Customizing BM25 parameters can improve search relevance.\"}\n",
    "]\n",
    "\n",
    "# Index documents\n",
    "for i, doc in enumerate(documents, start=1):\n",
    "    response = requests.post(\n",
    "        f\"{es_url}/{index_name}/_doc/{i}\",\n",
    "        headers={\"Content-Type\": \"application/json\"},\n",
    "        data=json.dumps(doc)\n",
    "    )\n",
    "    print(f\"Indexed document {i}: Status Code {response.status_code}\")"
   ]
  },
  {
   "cell_type": "code",
   "execution_count": null,
   "id": "d7d0f609-3b34-401a-992b-cf214ecb1a74",
   "metadata": {},
   "outputs": [],
   "source": [
    "# Define the search query\n",
    "search_query = {\n",
    "    \"query\": {\n",
    "        \"match\": {\n",
    "            \"content\": \"search capabilities\"\n",
    "        }\n",
    "    }\n",
    "}\n",
    "\n",
    "# Execute the search\n",
    "response = requests.get(\n",
    "    f\"{es_url}/{index_name}/_search\",\n",
    "    headers={\"Content-Type\": \"application/json\"},\n",
    "    data=json.dumps(search_query)\n",
    ")\n",
    "\n",
    "# Output the search results\n",
    "print(f\"Search Status Code: {response.status_code}\")\n",
    "print(f\"Search Results:\\n{response.text}\")"
   ]
  },
  {
   "cell_type": "code",
   "execution_count": null,
   "id": "ff230169",
   "metadata": {},
   "outputs": [],
   "source": []
  },
  {
   "cell_type": "code",
   "execution_count": null,
   "id": "e354742a-da35-4535-8f64-5d89edf3db87",
   "metadata": {},
   "outputs": [],
   "source": [
    "response.json()"
   ]
  },
  {
   "cell_type": "code",
   "execution_count": null,
   "id": "678a2c65",
   "metadata": {},
   "outputs": [],
   "source": []
  }
 ],
 "metadata": {
  "kernelspec": {
   "display_name": "Python 3 (ipykernel)",
   "language": "python",
   "name": "python3"
  },
  "language_info": {
   "codemirror_mode": {
    "name": "ipython",
    "version": 3
   },
   "file_extension": ".py",
   "mimetype": "text/x-python",
   "name": "python",
   "nbconvert_exporter": "python",
   "pygments_lexer": "ipython3",
   "version": "3.12.10"
  }
 },
 "nbformat": 4,
 "nbformat_minor": 5
}
